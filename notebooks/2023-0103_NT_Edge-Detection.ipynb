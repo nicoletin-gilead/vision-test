{
 "cells": [
  {
   "cell_type": "code",
   "execution_count": 1,
   "metadata": {},
   "outputs": [],
   "source": [
    "import os\n",
    "import numpy as np\n",
    "import pandas as pd\n",
    "import cv2 as cv \n",
    "import matplotlib.pyplot as plt"
   ]
  },
  {
   "cell_type": "markdown",
   "metadata": {},
   "source": [
    "## 01/04 Text Recognition\n",
    "**Summary of Previous Work Done**     \n",
    "    \n",
    "Edits to `notebooks/2022-1221_NT_Image-Preprocessing.ipynb` were corrupted (edge detection and failed scalebar recognition). Tight to \"mid\" ranges of CANNY proved decent detection on defined images (Test 2).  \n",
    "     \n",
    "[**Watershed segmentation (ref)**](https://docs.opencv.org/4.x/d3/db4/tutorial_py_watershed.html)    \n",
    "proved unuseful (as expected) the Distance Transform's separation between foreground and background ignores the heavy occlusion of particles.     \n",
    "\n",
    "[**OCR Tesseract Text Extraction (ref)**](https://www.geeksforgeeks.org/text-detection-and-extraction-using-opencv-and-ocr/ )   \n",
    "Worked well on left hand text, extracted lot number and magnification accurately. Could not identify the 50um scaling on the lower right hand side, despite cropping input image to highlight the region. Kernel sizes [(10,10), (18, 18), (20, 20)] performed similarly, with text extracts still saved in notebook folder.     \n",
    "   \n",
    "Bottom right cropping `image[750:, :750]`    \n",
    "\n",
    "### Thoughts\n",
    "1. Generalizable function to identify text and scalebar\n",
    "2. CANNY Edge Detection > Circle Recognition for Demo\n",
    "3. Found similar existing work (morphology-independent SEM segmentation) published as two students' theses.  \n",
    "i.  Lab Notebook: Scalebar recognition for Histology [no github, post](https://h-ra.github.io/26-AreaScaleBar/)  \n",
    "ii. Thermal spray (occluded circles) segmentation [paper](https://onlinelibrary.wiley.com/doi/pdf/10.1002/qre.2689)    \n",
    "iii. Lost thesis..."
   ]
  },
  {
   "cell_type": "markdown",
   "metadata": {},
   "source": [
    "### Image Loading\n",
    "\n",
    "How to generalize root to be parent of git repo?"
   ]
  },
  {
   "cell_type": "code",
   "execution_count": 7,
   "metadata": {},
   "outputs": [],
   "source": [
    "data_root = \"/Users/nicolelrtin/vision-test/data/source\"\n",
    "internal = data_root + '/internal/'\n",
    "# take 10 images\n",
    "file_names = os.listdir(internal)\n",
    "image = []\n",
    "for name in file_names: image += [cv.imread(internal + name)]"
   ]
  },
  {
   "cell_type": "markdown",
   "metadata": {},
   "source": [
    "### Helper Functions\n",
    "Image Display/Saving"
   ]
  },
  {
   "cell_type": "code",
   "execution_count": 14,
   "metadata": {},
   "outputs": [],
   "source": [
    "# preview image, missing save image functionality\n",
    "def preview(img, savename = 'preview_image'):\n",
    "    cv.imshow(savename, img)\n",
    "    k = cv.waitKey(0)\n",
    "    \n",
    "    if k == ord('s'):\n",
    "        cv.imwrite(savename + '.png', img)"
   ]
  },
  {
   "cell_type": "markdown",
   "metadata": {},
   "source": [
    "## Edge Detection"
   ]
  },
  {
   "cell_type": "code",
   "execution_count": 18,
   "metadata": {},
   "outputs": [],
   "source": [
    "# -- Finding Optimal Edge Detection\n",
    "# wide = cv.Canny(image[1], 10, 200)\n",
    "mid = cv.Canny(image[1], 30, 150)\n",
    "# tight = cv.Canny(image[1], 50, 150)\n",
    "\n",
    "def crop_to_text(img):\n",
    "    return img[750:, :]\n",
    "\n",
    "def canny(img, thresh_a, thresh_b):\n",
    "    return cv.Canny(img, thresh_a, thresh_b)\n",
    "\n",
    "def dilate(img):\n",
    "    kernel = np.ones((5,5), np.uint8)\n",
    "    return cv.dilate(kernel, image, iterations= 1)\n"
   ]
  },
  {
   "cell_type": "code",
   "execution_count": null,
   "metadata": {},
   "outputs": [],
   "source": []
  }
 ],
 "metadata": {
  "kernelspec": {
   "display_name": "Python 3.10.5 64-bit",
   "language": "python",
   "name": "python3"
  },
  "language_info": {
   "codemirror_mode": {
    "name": "ipython",
    "version": 3
   },
   "file_extension": ".py",
   "mimetype": "text/x-python",
   "name": "python",
   "nbconvert_exporter": "python",
   "pygments_lexer": "ipython3",
   "version": "3.10.5"
  },
  "orig_nbformat": 4,
  "vscode": {
   "interpreter": {
    "hash": "aee8b7b246df8f9039afb4144a1f6fd8d2ca17a180786b69acc140d282b71a49"
   }
  }
 },
 "nbformat": 4,
 "nbformat_minor": 2
}
