{
 "cells": [
  {
   "cell_type": "code",
   "execution_count": 1,
   "metadata": {},
   "outputs": [],
   "source": [
    "import os\n",
    "import numpy as np\n",
    "import pandas as pd\n",
    "import cv2 as cv \n",
    "import matplotlib.pyplot as plt\n",
    "\n",
    "import pytesseract\n",
    "pytesseract.pytesseract.tesseract_cmd = '/opt/homebrew/bin/tesseract'"
   ]
  },
  {
   "cell_type": "markdown",
   "metadata": {},
   "source": [
    "## 01/04 Text Recognition\n",
    "**Summary of Previous Work Done**     \n",
    "    \n",
    "Edits to `notebooks/2022-1221_NT_Image-Preprocessing.ipynb` were corrupted (edge detection and failed scalebar recognition). Tight to \"mid\" ranges of CANNY proved decent detection on defined images (Test 2).  \n",
    "     \n",
    "[**Watershed segmentation (ref)**](https://docs.opencv.org/4.x/d3/db4/tutorial_py_watershed.html)    \n",
    "proved unuseful (as expected) the Distance Transform's separation between foreground and background ignores the heavy occlusion of particles.     \n",
    "\n",
    "[**OCR Tesseract Text Extraction (ref)**](https://www.geeksforgeeks.org/text-detection-and-extraction-using-opencv-and-ocr/ )   \n",
    "Worked well on left hand text, extracted lot number and magnification accurately. Could not identify the 50um scaling on the lower right hand side, despite cropping input image to highlight the region. Kernel sizes [(10,10), (18, 18), (20, 20)] performed similarly, with text extracts still saved in notebook folder.     \n",
    "   \n",
    "Bottom right cropping `image[750:, :750]`    \n",
    "\n",
    "### Thoughts\n",
    "1. Generalizable function to identify text and scalebar\n",
    "2. CANNY Edge Detection > Circle Recognition for Demo\n",
    "3. Found similar existing work (morphology-independent SEM segmentation) published as two students' theses.  \n",
    "i.  Lab Notebook: Scalebar recognition for Histology [no github, post](https://h-ra.github.io/26-AreaScaleBar/)  \n",
    "ii. Thermal spray (occluded circles) segmentation [paper](https://onlinelibrary.wiley.com/doi/pdf/10.1002/qre.2689)    \n",
    "iii. Lost thesis..."
   ]
  },
  {
   "cell_type": "markdown",
   "metadata": {},
   "source": [
    "### Image Loading\n",
    "\n",
    "How to generalize root to be parent of git repo?"
   ]
  },
  {
   "cell_type": "code",
   "execution_count": 17,
   "metadata": {},
   "outputs": [],
   "source": [
    "data_root = \"/Users/nicolelrtin/vision-test/data/source\"\n",
    "internal = data_root + '/internal/'\n",
    "# take 10 images\n",
    "file_names = os.listdir(internal)\n",
    "image = []\n",
    "for name in file_names: image += [cv.imread(internal + name)]"
   ]
  },
  {
   "cell_type": "markdown",
   "metadata": {},
   "source": [
    "### Helper Functions\n",
    "Image Display/Saving"
   ]
  },
  {
   "cell_type": "code",
   "execution_count": 3,
   "metadata": {},
   "outputs": [],
   "source": [
    "# preview image, missing save image functionality\n",
    "def preview(img, savename = 'preview_image'):\n",
    "    cv.imshow(savename, img)\n",
    "    k = cv.waitKey(0)\n",
    "    \n",
    "    if k == ord('s'):\n",
    "        cv.imwrite(savename + '.png', img)"
   ]
  },
  {
   "attachments": {},
   "cell_type": "markdown",
   "metadata": {},
   "source": [
    "## Text Recognition+Extraction\n",
    "\n",
    "01/04: OCR recognizes left-side text on plain image. scale recognition requires image cropping to read/extract text."
   ]
  },
  {
   "cell_type": "code",
   "execution_count": 26,
   "metadata": {},
   "outputs": [],
   "source": [
    "# -- Finding Optimal Edge Detection\n",
    "# wide = cv.Canny(image[1], 10, 200)\n",
    "mid = cv.Canny(image[1], 30, 150)\n",
    "# tight = cv.Canny(image[1], 50, 150)\n",
    "\n",
    "def crop_to_text(img):\n",
    "    return img[750:, :]\n",
    "\n",
    "def dilate(img):\n",
    "    kernel = np.ones((5,5), np.uint8)\n",
    "    return cv.dilate(image, kernel, iterations= 1)\n",
    "\n",
    "def canny(img, thresh_a = 30, thresh_b = 150):\n",
    "    return cv.Canny(img, thresh_a, thresh_b)\n",
    "\n",
    "def box_image_text(image, name = 'bounded_text'):\n",
    "    img = image.copy()\n",
    "    h, w, c = img.shape\n",
    "    boxes = pytesseract.image_to_boxes(img) \n",
    "    for b in boxes.splitlines():\n",
    "        b = b.split(' ')\n",
    "        img = cv.rectangle(img, (int(b[1]), h - int(b[2])), \n",
    "              (int(b[3]), h - int(b[4])), (0, 255, 0), 2)\n",
    "\n",
    "    cv.imshow(name, img)\n",
    "    cv.waitKey(0)"
   ]
  },
  {
   "cell_type": "code",
   "execution_count": null,
   "metadata": {},
   "outputs": [],
   "source": [
    "base_image = image[1]\n",
    "cropped_img = base_image[750:, :]\n",
    "\n",
    "# miscellaneous preprocessing\n",
    "blur_img = cv.GaussianBlur(cropped_img, (3,3), 0)\n",
    "canny_img = canny(blur_img)\n",
    "dilated_img = dilate(canny_img)"
   ]
  },
  {
   "cell_type": "code",
   "execution_count": 5,
   "metadata": {},
   "outputs": [
    {
     "data": {
      "text/plain": [
       "'GS-3972 Lot 10775-47\\n\\n'"
      ]
     },
     "execution_count": 5,
     "metadata": {},
     "output_type": "execute_result"
    }
   ],
   "source": [
    "box_image_text(base_image, 'box_base_img')\n",
    "pytesseract.image_to_string(base_image)"
   ]
  },
  {
   "cell_type": "code",
   "execution_count": 30,
   "metadata": {},
   "outputs": [
    {
     "data": {
      "text/plain": [
       "'50.0um\\n'"
      ]
     },
     "execution_count": 30,
     "metadata": {},
     "output_type": "execute_result"
    }
   ],
   "source": [
    "cropped = base_image[900:, 950:]\n",
    "box_image_text(cropped, 'cropped')\n",
    "pytesseract.image_to_string(cropped)"
   ]
  },
  {
   "cell_type": "code",
   "execution_count": null,
   "metadata": {},
   "outputs": [],
   "source": []
  }
 ],
 "metadata": {
  "kernelspec": {
   "display_name": "Python 3.10.5 64-bit",
   "language": "python",
   "name": "python3"
  },
  "language_info": {
   "codemirror_mode": {
    "name": "ipython",
    "version": 3
   },
   "file_extension": ".py",
   "mimetype": "text/x-python",
   "name": "python",
   "nbconvert_exporter": "python",
   "pygments_lexer": "ipython3",
   "version": "3.10.5"
  },
  "orig_nbformat": 4,
  "vscode": {
   "interpreter": {
    "hash": "aee8b7b246df8f9039afb4144a1f6fd8d2ca17a180786b69acc140d282b71a49"
   }
  }
 },
 "nbformat": 4,
 "nbformat_minor": 2
}
